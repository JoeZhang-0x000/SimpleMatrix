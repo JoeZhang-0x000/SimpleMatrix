{
 "cells": [
  {
   "cell_type": "code",
   "execution_count": 1,
   "metadata": {},
   "outputs": [],
   "source": [
    "from matrix import *"
   ]
  },
  {
   "cell_type": "markdown",
   "metadata": {},
   "source": [
    "## 基础矩阵运算符\n",
    "### 矩阵表示\n",
    "- 采用Matrix的构造函数，Matrix(value,shape)，其中value可以为一个一维列表，也可以为二维列表，shape若不指定则会自动计算(二维列表)或默认为列向量(一维列表)。\n",
    "- 该类重构了__str__，可以直接通过print(A)打印矩阵A的元素。\n",
    "该模块也包括了合法性检测，若用户指定的维度与输入的列表不符合，则会报错，并提示用户输入的形状有误。\n",
    "例如,\n",
    "```Python\n",
    "E = Matrix([1,2,3],[2,2])\n",
    "```\n",
    "将会报错\n",
    "```\n",
    "Shape invalid! User defined shape:(2, 2) not match element number:[3].\n",
    "```\n",
    "例如如下构造方式都是合法的："
   ]
  },
  {
   "cell_type": "code",
   "execution_count": 2,
   "metadata": {},
   "outputs": [
    {
     "name": "stdout",
     "output_type": "stream",
     "text": [
      "A: [\n",
      "\t[1.00e+00 2.00e+00 ]\n",
      "\t[3.00e+00 4.00e+00 ]\n",
      "],Shape:[2,2]\n",
      "B: [\n",
      "\t[1.00e+00 ]\n",
      "\t[2.00e+00 ]\n",
      "\t[3.00e+00 ]\n",
      "\t[4.00e+00 ]\n",
      "],Shape:[4,1]\n",
      "C: [\n",
      "\t[1.00e+00 2.00e+00 3.00e+00 4.00e+00 ]\n",
      "],Shape:[1,4]\n",
      "D: [\n",
      "\t[1.00e+00 2.00e+00 ]\n",
      "\t[3.00e+00 4.00e+00 ]\n",
      "],Shape:[2,2]\n",
      "E: [\n",
      "\t[3.81e-02 2.00e-01 3.63e-01 7.91e-01 ]\n",
      "\t[2.56e-01 5.20e-01 2.37e-02 9.97e-01 ]\n",
      "\t[4.89e-01 1.92e-01 4.89e-01 7.16e-01 ]\n",
      "],Shape:[3,4]\n",
      "F: [\n",
      "\t[1.00e+00+2.00e+00j ]\n",
      "\t[1.00e+00-2.00e+00j ]\n",
      "],Shape:[2,1]\n",
      "G: [\n",
      "\t[1.00e+00 0.00e+00 0.00e+00 ]\n",
      "\t[0.00e+00 1.00e+00 0.00e+00 ]\n",
      "\t[0.00e+00 0.00e+00 1.00e+00 ]\n",
      "],Shape:[3,3]\n"
     ]
    }
   ],
   "source": [
    "A = Matrix([[1,2],[3,4]]) # 不指定形状，但输入为二维列表，自动判断形状\n",
    "print('A:',A)\n",
    "\n",
    "B = Matrix([1,2,3,4]) # 不指定形状，输入为一维列表，默认为列向量\n",
    "print('B:',B)\n",
    "\n",
    "C = Matrix([[1,2],[3,4]],[1,4]) # 输入为二维列表，但是指定了形状，按照指定形状构建矩阵(形状需合法！)\n",
    "print('C:',C)\n",
    "\n",
    "D = Matrix([1,2,3,4],[2,2]) # 输入为一维列表，但是指定了形状，按照指定形状构建矩阵(形状需合法！)\n",
    "print('D:',D)\n",
    "\n",
    "E = Matrix(np.random.random((3,4))) # 支持np数据类型\n",
    "print('E:',E)\n",
    "\n",
    "F = Matrix([1+2j,1-2j]) # 支持复数\n",
    "print('F:',F)\n",
    "\n",
    "G = Eye(3) # 便捷构造单位阵\n",
    "print('G:',G)"
   ]
  },
  {
   "cell_type": "markdown",
   "metadata": {},
   "source": [
    "## 基础矩阵运算\n",
    "- 重构了一些简单的单目运算符号\n",
    "    - 加法：A+B\n",
    "    - 减法：A-B\n",
    "    - 矩阵乘法：A@B\n",
    "    - 矩阵数乘：A*n\n",
    "    - 矩阵按位乘：A*B\n",
    "    - 矩阵数除：A/n 实际上等价于 A*1/n\n"
   ]
  },
  {
   "cell_type": "code",
   "execution_count": 3,
   "metadata": {},
   "outputs": [
    {
     "name": "stdout",
     "output_type": "stream",
     "text": [
      "A: [\n",
      "\t[9.00e+00 6.00e+00 ]\n",
      "\t[6.00e+00 9.00e+00 ]\n",
      "],Shape:[2,2]\n",
      "B: [\n",
      "\t[1.00e+00 4.00e+00 ]\n",
      "\t[6.00e+00 0.00e+00 ]\n",
      "],Shape:[2,2]\n",
      "n: 0.3661398304073862\n",
      "A+B: [\n",
      "\t[1.00e+01 1.00e+01 ]\n",
      "\t[1.20e+01 9.00e+00 ]\n",
      "],Shape:[2,2]\n",
      "A-B [\n",
      "\t[8.00e+00 2.00e+00 ]\n",
      "\t[0.00e+00 9.00e+00 ]\n",
      "],Shape:[2,2]\n",
      "A*B [\n",
      "\t[9.00e+00 2.40e+01 ]\n",
      "\t[3.60e+01 0.00e+00 ]\n",
      "],Shape:[2,2]\n",
      "A*n [\n",
      "\t[3.30e+00 8.79e+00 ]\n",
      "\t[1.32e+01 0.00e+00 ]\n",
      "],Shape:[2,2]\n"
     ]
    }
   ],
   "source": [
    "A = Matrix(np.random.randint(low=0,high=10,size=(4,)),[2,2])\n",
    "B = Matrix(np.random.randint(low=0,high=10,size=(4,)),[2,2])\n",
    "n = np.random.random()\n",
    "print('A:',A)\n",
    "print('B:',B)\n",
    "print('n:',n)\n",
    "print('A+B:',A+B)\n",
    "print('A-B',A-B)\n",
    "print('A*B',A*B)\n",
    "print('A*n',A*n)"
   ]
  },
  {
   "cell_type": "markdown",
   "metadata": {},
   "source": [
    "- 实现了基础的矩阵范数\n",
    "    - Forbenius模: $||A||_F = \\text{A.for()}$\n",
    "    - $L_1$模: $||A||_1 = \\text{A.L1()}$\n",
    "    - $L_2$模: $||A||_2 = \\text{A.L2()}$\n",
    "    - $L_{\\inf}$模: $||A||_{inf} = \\text{A.Linf()}$"
   ]
  },
  {
   "cell_type": "code",
   "execution_count": 4,
   "metadata": {},
   "outputs": [
    {
     "name": "stdout",
     "output_type": "stream",
     "text": [
      "A: [\n",
      "\t[1.73e+00 -5.77e-01 ]\n",
      "\t[0.00e+00 1.63e+00 ]\n",
      "],Shape:[2,2]\n",
      "Forbenius 模: 2.4494897427831783\n",
      "L1 模: 2.2103434310450782\n",
      "L2 模: 2.0000000000000004\n",
      "L无穷模: 2.3094010767585034\n"
     ]
    }
   ],
   "source": [
    "A = Matrix([[3,-1],[0,np.sqrt(8)]]) # 课本Example 5.2.2的例子\n",
    "A = A/np.sqrt(3)\n",
    "print('A:',A)\n",
    "print('Forbenius 模:',A.fro())\n",
    "print('L1 模:',A.L1())\n",
    "print('L2 模:',A.L2())\n",
    "print('L无穷模:',A.Linf())"
   ]
  },
  {
   "cell_type": "markdown",
   "metadata": {},
   "source": [
    "- 实现了一些基础运算函数\n",
    "    - 共轭转置：$A^* = \\text{transpose}(A)$\n",
    "    - 普通转置：$A^T = \\text{transpose}(A)$\n",
    "    - 矩阵求逆：$A^{-1} = \\text{inv}(A)$\n",
    "    - 行列式：$|A| = \\text{det}(A)$\n",
    "    - 代数余子式：$a_{ij} = \\text{minor}(A,i,j)$\n"
   ]
  },
  {
   "cell_type": "code",
   "execution_count": 5,
   "metadata": {},
   "outputs": [
    {
     "name": "stdout",
     "output_type": "stream",
     "text": [
      "A: [\n",
      "\t[6.00e+00 7.00e+00 4.00e+00 8.00e+00 ]\n",
      "\t[3.00e+00 9.00e+00 8.00e+00 9.00e+00 ]\n",
      "\t[9.00e+00 6.00e+00 8.00e+00 8.00e+00 ]\n",
      "],Shape:[3,4]\n",
      "A^T: [\n",
      "\t[6.00e+00 3.00e+00 9.00e+00 ]\n",
      "\t[7.00e+00 9.00e+00 6.00e+00 ]\n",
      "\t[4.00e+00 8.00e+00 8.00e+00 ]\n",
      "\t[8.00e+00 9.00e+00 8.00e+00 ]\n",
      "],Shape:[4,3]\n",
      "B: [\n",
      "\t[1.00e+00+1.00e+00j 1.00e+00-2.00e+00j 2.00e+00+3.00e+00j ]\n",
      "\t[0.00e+00 0.00e+00+1.00e+00j 0.00e+00+2.00e+00j ]\n",
      "],Shape:[2,3]\n",
      "B^*: [\n",
      "\t[1.00e+00-1.00e+00j 0.00e+00 ]\n",
      "\t[1.00e+00+2.00e+00j 0.00e+00-1.00e+00j ]\n",
      "\t[2.00e+00-3.00e+00j 0.00e+00-2.00e+00j ]\n",
      "],Shape:[3,2]\n",
      "C: [\n",
      "\t[4.00e+00 4.00e+00 2.00e+00 ]\n",
      "\t[2.00e+00 4.00e+00 1.00e+00 ]\n",
      "\t[0.00e+00 4.00e+00 4.00e+00 ]\n",
      "],Shape:[3,3]\n",
      "代数余子式C(1,2): [\n",
      "\t[4.00e+00 4.00e+00 ]\n",
      "\t[0.00e+00 4.00e+00 ]\n",
      "],Shape:[2,2]\n",
      "C^{-1}: [\n",
      "\t[3.75e-01 -2.50e-01 -1.25e-01 ]\n",
      "\t[-2.50e-01 5.00e-01 0.00e+00 ]\n",
      "\t[2.50e-01 -5.00e-01 2.50e-01 ]\n",
      "],Shape:[3,3]\n",
      "C^{-1}@C: [\n",
      "\t[1.00e+00 0.00e+00 0.00e+00 ]\n",
      "\t[0.00e+00 1.00e+00 0.00e+00 ]\n",
      "\t[0.00e+00 0.00e+00 1.00e+00 ]\n",
      "],Shape:[3,3]\n"
     ]
    }
   ],
   "source": [
    "A = Matrix(np.random.randint(0,10,size=(3,4)))\n",
    "print('A:',A)\n",
    "print('A^T:',transpose(A)) # 普通转置\n",
    "\n",
    "B = Matrix(np.array([[1+1j,1-2j,2+3j],[0+0j,0+1j,2j]]))\n",
    "print('B:',B)\n",
    "print('B^*:',transpose(B)) # 共轭转置\n",
    "\n",
    "C = Matrix(np.random.randint(0,5,(3,3)))\n",
    "print('C:',C)\n",
    "D = minor(C,1,2) # C的代数余子式，去掉1行2列 (从0开始计数)\n",
    "print('代数余子式C(1,2):',D)\n",
    "print('C^{-1}:',inv(C)) # 求逆\n",
    "print('C^{-1}@C:',inv(C)@C)\n",
    "\n"
   ]
  },
  {
   "cell_type": "markdown",
   "metadata": {},
   "source": [
    "## 矩阵分解\n",
    "- 实现了一些基础的矩阵分解函数\n",
    "    - LU分解：$A=LU$,```L, U = lu(A)```\n",
    "    - QR分解(schmidt)：$A=QR$,```Q, R = qr(A,'schmidt')```\n",
    "    - QR分解(modified schmidt)：$A=QR$,```Q, R = qr(A,'modified schmidt')```\n",
    "    - QR分解(householder)：$A=QR$,```Q, R = qr(A,'householder')```\n",
    "    - QR分解(schmidt)：$A=QR$,```Q, R = qr(A,'givens')```\n",
    "    - URV分解：$A=URV^T$, ```U,R,V = urv(A)```"
   ]
  },
  {
   "cell_type": "code",
   "execution_count": 6,
   "metadata": {},
   "outputs": [
    {
     "name": "stdout",
     "output_type": "stream",
     "text": [
      "[\n",
      "\t[1.00e+00+1.00e+00j 1.00e+00-2.00e+00j 2.00e+00+3.00e+00j ]\n",
      "\t[0.00e+00 0.00e+00+1.00e+00j 0.00e+00+2.00e+00j ]\n",
      "\t[1.00e+00+0.00e+00j 1.00e+00+0.00e+00j 1.00e+00+0.00e+00j ]\n",
      "],Shape:[3,3]\n",
      "Q: [\n",
      "\t[-2.11e-01-0.00e+00j 7.24e-01-6.41e-01j -8.58e-02+1.17e-01j ]\n",
      "\t[0.00e+00 -1.49e-01-0.00e+00j -9.66e-01+2.10e-01j ]\n",
      "\t[5.77e-01+7.89e-01j 2.04e-01+4.45e-02j -3.14e-02-0.00e+00j ]\n",
      "],Shape:[3,3]\n",
      "R: [\n",
      "\t[3.66e-01-1.00e+00j 3.66e-01-3.66e-01j 1.55e-01-1.42e+00j ]\n",
      "\t[2.87e-01+1.32e+00j 2.21e+00-1.00e+00j -2.70e-01+3.11e+00j ]\n",
      "\t[3.30e-17-2.03e-01j -1.41e-01-9.12e-01j 5.69e-01-2.42e+00j ]\n",
      "],Shape:[3,3]\n",
      "Q@R - B: [\n",
      "\t[0.00e+00 0.00e+00 0.00e+00 ]\n",
      "\t[0.00e+00 0.00e+00 0.00e+00 ]\n",
      "\t[0.00e+00 0.00e+00 0.00e+00 ]\n",
      "],Shape:[3,3]\n"
     ]
    }
   ],
   "source": [
    "B = Matrix(np.array([[1+1j,1-2j,2+3j],[0+0j,0+1j,2j],[1,1,1]]),[3,3]) # 复数矩阵也可以操作\n",
    "print(B)\n",
    "Q,R = qr(B,'householder') #QR分解\n",
    "print('Q:',Q)\n",
    "print('R:',R)\n",
    "print('Q@R - B:',Q@R - B)"
   ]
  },
  {
   "cell_type": "code",
   "execution_count": 7,
   "metadata": {},
   "outputs": [
    {
     "name": "stdout",
     "output_type": "stream",
     "text": [
      "2\n",
      "待分解矩阵A: [\n",
      "\t[1.00e+00 2.00e+00 3.00e+00 ]\n",
      "\t[1.00e+00 3.00e+00 4.00e+00 ]\n",
      "\t[1.00e+00 3.00e+00 6.00e+00 ]\n",
      "],Shape:[3,3]\n",
      "LU分解:\n",
      "L: [\n",
      "\t[1.00e+00 0.00e+00 0.00e+00 ]\n",
      "\t[1.00e+00 1.00e+00 0.00e+00 ]\n",
      "\t[1.00e+00 1.00e+00 1.00e+00 ]\n",
      "],Shape:[3,3]\n",
      "U: [\n",
      "\t[1.00e+00 2.00e+00 3.00e+00 ]\n",
      "\t[0.00e+00 1.00e+00 1.00e+00 ]\n",
      "\t[0.00e+00 0.00e+00 2.00e+00 ]\n",
      "],Shape:[3,3]\n",
      "L@U-A: [\n",
      "\t[0.00e+00 0.00e+00 0.00e+00 ]\n",
      "\t[0.00e+00 0.00e+00 0.00e+00 ]\n",
      "\t[0.00e+00 0.00e+00 0.00e+00 ]\n",
      "],Shape:[3,3]\n"
     ]
    }
   ],
   "source": [
    "A = Matrix([[1,2,3],[1,3,4],[1,3,6]])\n",
    "print(det(A))\n",
    "print('待分解矩阵A:',A)\n",
    "L,U = lu(A)\n",
    "print('LU分解:')\n",
    "print('L:',L)\n",
    "print('U:',U)\n",
    "print('L@U-A:',L@U-A) # 验证LU = A"
   ]
  },
  {
   "cell_type": "code",
   "execution_count": 8,
   "metadata": {},
   "outputs": [
    {
     "name": "stdout",
     "output_type": "stream",
     "text": [
      "待分解矩阵A: [\n",
      "\t[1.00e+00 2.00e+00 3.00e+00 ]\n",
      "\t[1.00e+00 3.00e+00 4.00e+00 ]\n",
      "\t[1.00e+00 3.00e+00 6.00e+00 ]\n",
      "],Shape:[3,3]\n",
      "QR分解(schmidt):\n",
      "Q: [\n",
      "\t[5.77e-01 -8.16e-01 0.00e+00 ]\n",
      "\t[5.77e-01 4.08e-01 -7.07e-01 ]\n",
      "\t[5.77e-01 4.08e-01 7.07e-01 ]\n",
      "],Shape:[3,3]\n",
      "R [\n",
      "\t[1.73e+00 4.62e+00 7.51e+00 ]\n",
      "\t[0.00e+00 8.16e-01 1.63e+00 ]\n",
      "\t[0.00e+00 0.00e+00 1.41e+00 ]\n",
      "],Shape:[3,3]\n",
      "Q@R-A: [\n",
      "\t[0.00e+00 0.00e+00 0.00e+00 ]\n",
      "\t[0.00e+00 0.00e+00 0.00e+00 ]\n",
      "\t[0.00e+00 0.00e+00 0.00e+00 ]\n",
      "],Shape:[3,3]\n"
     ]
    }
   ],
   "source": [
    "print('待分解矩阵A:',A)\n",
    "Q,R = qr(A,'schmidt')\n",
    "print('QR分解(schmidt):')\n",
    "print('Q:',Q)\n",
    "print('R',R)\n",
    "print('Q@R-A:',Q@R-A) # 验证QR = A"
   ]
  },
  {
   "cell_type": "code",
   "execution_count": 9,
   "metadata": {},
   "outputs": [
    {
     "name": "stdout",
     "output_type": "stream",
     "text": [
      "待分解矩阵A: [\n",
      "\t[1.00e+00 2.00e+00 3.00e+00 ]\n",
      "\t[1.00e+00 3.00e+00 4.00e+00 ]\n",
      "\t[1.00e+00 3.00e+00 6.00e+00 ]\n",
      "],Shape:[3,3]\n",
      "QR分解(modified schmidt):\n",
      "Q: [\n",
      "\t[5.77e-01 -8.16e-01 0.00e+00 ]\n",
      "\t[5.77e-01 4.08e-01 -7.07e-01 ]\n",
      "\t[5.77e-01 4.08e-01 7.07e-01 ]\n",
      "],Shape:[3,3]\n",
      "R [\n",
      "\t[1.73e+00 4.62e+00 7.51e+00 ]\n",
      "\t[0.00e+00 8.16e-01 1.63e+00 ]\n",
      "\t[0.00e+00 0.00e+00 1.41e+00 ]\n",
      "],Shape:[3,3]\n",
      "Q@R-A: [\n",
      "\t[0.00e+00 0.00e+00 0.00e+00 ]\n",
      "\t[0.00e+00 0.00e+00 0.00e+00 ]\n",
      "\t[0.00e+00 0.00e+00 0.00e+00 ]\n",
      "],Shape:[3,3]\n"
     ]
    }
   ],
   "source": [
    "A = Matrix([[1,2,3],[1,3,4],[1,3,6]])\n",
    "print('待分解矩阵A:',A)\n",
    "Q,R = qr(A,'modified schmidt')\n",
    "print('QR分解(modified schmidt):')\n",
    "print('Q:',Q)\n",
    "print('R',R)\n",
    "print('Q@R-A:',Q@R-A) # 验证QR = A"
   ]
  },
  {
   "cell_type": "code",
   "execution_count": 10,
   "metadata": {},
   "outputs": [
    {
     "name": "stdout",
     "output_type": "stream",
     "text": [
      "待分解矩阵A: [\n",
      "\t[1.00e+00 2.00e+00 3.00e+00 ]\n",
      "\t[1.00e+00 3.00e+00 4.00e+00 ]\n",
      "\t[1.00e+00 3.00e+00 6.00e+00 ]\n",
      "],Shape:[3,3]\n",
      "QR分解(householder):\n",
      "Q: [\n",
      "\t[5.77e-01 -8.16e-01 0.00e+00 ]\n",
      "\t[5.77e-01 4.08e-01 -7.07e-01 ]\n",
      "\t[5.77e-01 4.08e-01 7.07e-01 ]\n",
      "],Shape:[3,3]\n",
      "R [\n",
      "\t[1.73e+00 4.62e+00 7.51e+00 ]\n",
      "\t[0.00e+00 8.16e-01 1.63e+00 ]\n",
      "\t[0.00e+00 0.00e+00 1.41e+00 ]\n",
      "],Shape:[3,3]\n",
      "Q@R-A: [\n",
      "\t[0.00e+00 0.00e+00 0.00e+00 ]\n",
      "\t[0.00e+00 0.00e+00 0.00e+00 ]\n",
      "\t[0.00e+00 0.00e+00 0.00e+00 ]\n",
      "],Shape:[3,3]\n"
     ]
    }
   ],
   "source": [
    "print('待分解矩阵A:',A)\n",
    "Q,R = qr(A,'householder')\n",
    "print('QR分解(householder):')\n",
    "print('Q:',Q)\n",
    "print('R',R)\n",
    "print('Q@R-A:',Q@R-A) # 验证QR = A"
   ]
  },
  {
   "cell_type": "code",
   "execution_count": 11,
   "metadata": {},
   "outputs": [
    {
     "name": "stdout",
     "output_type": "stream",
     "text": [
      "待分解矩阵A: [\n",
      "\t[1.00e+00 2.00e+00 3.00e+00 ]\n",
      "\t[1.00e+00 3.00e+00 4.00e+00 ]\n",
      "\t[1.00e+00 3.00e+00 6.00e+00 ]\n",
      "],Shape:[3,3]\n",
      "QR分解(givens):\n",
      "Q: [\n",
      "\t[5.77e-01 -8.16e-01 0.00e+00 ]\n",
      "\t[5.77e-01 4.08e-01 -7.07e-01 ]\n",
      "\t[5.77e-01 4.08e-01 7.07e-01 ]\n",
      "],Shape:[3,3]\n",
      "R [\n",
      "\t[1.73e+00 4.62e+00 7.51e+00 ]\n",
      "\t[0.00e+00 8.16e-01 1.63e+00 ]\n",
      "\t[0.00e+00 0.00e+00 1.41e+00 ]\n",
      "],Shape:[3,3]\n",
      "Q@R-A: [\n",
      "\t[0.00e+00 0.00e+00 0.00e+00 ]\n",
      "\t[0.00e+00 0.00e+00 0.00e+00 ]\n",
      "\t[0.00e+00 0.00e+00 0.00e+00 ]\n",
      "],Shape:[3,3]\n"
     ]
    }
   ],
   "source": [
    "print('待分解矩阵A:',A)\n",
    "Q,R = qr(A,'givens')\n",
    "print('QR分解(givens):')\n",
    "print('Q:',Q)\n",
    "print('R',R)\n",
    "print('Q@R-A:',Q@R-A) # 验证QR = A"
   ]
  },
  {
   "cell_type": "code",
   "execution_count": 12,
   "metadata": {},
   "outputs": [
    {
     "name": "stdout",
     "output_type": "stream",
     "text": [
      "待分解矩阵A: [\n",
      "\t[1.00e+00 2.00e+00 0.00e+00 ]\n",
      "\t[2.00e+00 4.00e+00 0.00e+00 ]\n",
      "\t[2.00e+00 0.00e+00 0.00e+00 ]\n",
      "],Shape:[3,3]\n",
      "URV分解\n",
      "U: [\n",
      "\t[3.33e-01 2.98e-01 -8.94e-01 ]\n",
      "\t[6.67e-01 5.96e-01 4.47e-01 ]\n",
      "\t[6.67e-01 -7.45e-01 0.00e+00 ]\n",
      "],Shape:[3,3]\n",
      "R: [\n",
      "\t[4.48e+00 0.00e+00 0.00e+00 ]\n",
      "\t[2.22e+00 1.99e+00 0.00e+00 ]\n",
      "\t[0.00e+00 0.00e+00 0.00e+00 ]\n",
      "],Shape:[3,3]\n",
      "V: [\n",
      "\t[6.69e-01 7.43e-01 0.00e+00 ]\n",
      "\t[-7.43e-01 6.69e-01 0.00e+00 ]\n",
      "\t[0.00e+00 0.00e+00 1.00e+00 ]\n",
      "],Shape:[3,3]\n",
      "URV - A [\n",
      "\t[0.00e+00 0.00e+00 0.00e+00 ]\n",
      "\t[0.00e+00 0.00e+00 0.00e+00 ]\n",
      "\t[0.00e+00 0.00e+00 0.00e+00 ]\n",
      "],Shape:[3,3]\n"
     ]
    }
   ],
   "source": [
    "A = Matrix([[1,2,0],[2,4,0],[2,0,0]]) # 为了效果，构造一个奇异矩阵，便于观察R矩阵\n",
    "print('待分解矩阵A:',A)\n",
    "U,R,V = urv(A)\n",
    "print('URV分解')\n",
    "print('U:',U)\n",
    "print('R:',R)\n",
    "print('V:',V)\n",
    "print('URV - A',U@R@V-A) # 验证URV = A"
   ]
  },
  {
   "cell_type": "markdown",
   "metadata": {},
   "source": [
    "## 求解线性方程组\n",
    "```python\n",
    "x = solve(A,b,args)\n",
    "```\n",
    "- args 可以为'lu','qr','cramer',分别采用LU分解，QR分解，以及cramer's rule解方程。\n",
    "- 若A奇异，将会自动求最小二乘解。"
   ]
  },
  {
   "cell_type": "code",
   "execution_count": 13,
   "metadata": {},
   "outputs": [
    {
     "name": "stdout",
     "output_type": "stream",
     "text": [
      "A: [\n",
      "\t[1.00e+00 1.00e+00 1.00e+00 ]\n",
      "\t[2.00e+00 3.00e+00 1.00e+00 ]\n",
      "\t[1.00e+00 3.00e+00 4.00e+00 ]\n",
      "],Shape:[3,3]\n",
      "b: [\n",
      "\t[6.00e+00 ]\n",
      "\t[1.10e+01 ]\n",
      "\t[1.90e+01 ]\n",
      "],Shape:[3,1]\n",
      "lu分解求得x: [\n",
      "\t[1.00e+00 ]\n",
      "\t[2.00e+00 ]\n",
      "\t[3.00e+00 ]\n",
      "],Shape:[3,1]\n",
      "qr分解求得x: [\n",
      "\t[1.00e+00 ]\n",
      "\t[2.00e+00 ]\n",
      "\t[3.00e+00 ]\n",
      "],Shape:[3,1]\n",
      "cramer法则求得x: [\n",
      "\t[1.00e+00 ]\n",
      "\t[2.00e+00 ]\n",
      "\t[3.00e+00 ]\n",
      "],Shape:[3,1]\n"
     ]
    }
   ],
   "source": [
    "A = Matrix([[1,1,1],[2,3,1],[1,3,4]])\n",
    "print('A:',A)\n",
    "x = Matrix([1,2,3]) # 真实解\n",
    "b = A@x # 利用真解构造的b\n",
    "print('b:',b)\n",
    "x = solve(A,b,'lu') # lu分解求解Ax=b\n",
    "print('lu分解求得x:',x)\n",
    "x_2 = solve(A,b,'qr') # qr分解求解Ax=b\n",
    "print('qr分解求得x:',x_2)\n",
    "x_3 = solve(A,b,'cramer') # cramer法则\n",
    "print('cramer法则求得x:',x_3)"
   ]
  },
  {
   "cell_type": "code",
   "execution_count": 14,
   "metadata": {},
   "outputs": [
    {
     "name": "stdout",
     "output_type": "stream",
     "text": [
      "A: [\n",
      "\t[1.00e+00 2.00e+00 ]\n",
      "\t[3.00e+00 4.00e+00 ]\n",
      "\t[5.00e+00 6.00e+00 ]\n",
      "],Shape:[3,2]\n",
      "det(A)=0,求最小二乘解.\n",
      "最小二乘解x: [\n",
      "\t[-6.00e+00 ]\n",
      "\t[6.50e+00 ]\n",
      "],Shape:[2,1]\n",
      "Ax-b [\n",
      "\t[0.00e+00 ]\n",
      "\t[0.00e+00 ]\n",
      "\t[0.00e+00 ]\n",
      "],Shape:[3,1]\n"
     ]
    }
   ],
   "source": [
    "A = Matrix([[1,2],[3,4],[5,6]])\n",
    "print('A:',A)\n",
    "b = Matrix([7,8,9])\n",
    "x = solve(A,b,'cramer',1) # 默认使用normal方程进行求解，所以实际上等价于solve(A.T@A,A.T@b,args)，因此可以选cramer法则\n",
    "print('最小二乘解x:',x)\n",
    "print('Ax-b',A@x-b)"
   ]
  }
 ],
 "metadata": {
  "kernelspec": {
   "display_name": "Python 3",
   "language": "python",
   "name": "python3"
  },
  "language_info": {
   "codemirror_mode": {
    "name": "ipython",
    "version": 3
   },
   "file_extension": ".py",
   "mimetype": "text/x-python",
   "name": "python",
   "nbconvert_exporter": "python",
   "pygments_lexer": "ipython3",
   "version": "3.10.6"
  },
  "orig_nbformat": 4
 },
 "nbformat": 4,
 "nbformat_minor": 2
}
